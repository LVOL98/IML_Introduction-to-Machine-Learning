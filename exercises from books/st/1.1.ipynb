{
 "cells": [
  {
   "cell_type": "markdown",
   "metadata": {},
   "source": [
    "## 1.1 A\n",
    "The linear combinations of `v = (1, 1, 0) and w = (0, 1, 1)` fill a plane. Describe that plane. Find a vector that is not a combination of v and w. \n",
    "\n",
    "## Answers\n",
    "The plane that v and w fills can be expressed by the following calculation:\n",
    "```\n",
    "cv + dw = (c * 1, c * 1, c * 0) + (d * 0, d * 1, d * 1) = (c, c + d, d)\n",
    "```\n",
    "\n",
    "The point (1, 1, 1) would not be a combination of v and w, as no combination of values for c and d could result in (1, 1, 1). This can be seen by the following calculation of the second component: `c + d = 1 + 1 <> 1`"
   ]
  },
  {
   "cell_type": "markdown",
   "metadata": {},
   "source": [
    "## 1.1 B\n",
    "For v = (1,0) and w = (0,1), describe all points cv with (1) whole numbers c (2) nonnegative c >= O. Then add all vectors dw and describe all cv + dw. \n",
    "\n",
    "### 1\n",
    "The points of cv will all be placed exactly on the x-axis. Due to the following calculations, assuming that whole means an integer:\n",
    "```\n",
    "cv = c * (1, 0) = (c, 0) where v = (x, y) in a coordinate system\n",
    "```\n",
    "\n",
    "### 2\n",
    "If c cannot be an negative number, then following the same calculations as in subtask 1, all points of cv will be on the x-axis but only on the positive side\n",
    "\n",
    "Addition of all vectors dw to cv:\n",
    "```\n",
    "cv + dw = c * (1, 0) + d * (0, 1) = (c, 0) + (0, d) = (c, d)\n",
    "```\n",
    "Where we see that if both c and d is integers, they can take every position in a traditional x,y coordinate system (using only integers). While if c and d can only be non-negative numbers, the numbers will only fill the 1 and 2 quadrant."
   ]
  },
  {
   "cell_type": "markdown",
   "metadata": {},
   "source": [
    "## 1.1 C\n",
    "Find two equations for the unknowns c and d so that the linear combination cv + dw equals the vector b: \n",
    "```\n",
    "v = (2, -1)     w = (-1, 2)     b = (1, 0)\n",
    "```\n",
    "\n",
    "One solution could be to set c = 1 and d = 0 such that:\n",
    "cv + dw = c * (2, -1) + d * (-1, 2) = () + () = (1, 0)\n",
    "\n",
    "Now we can solve it as an equation with two unkonwns\n",
    "```\n",
    "2c + -d = 1 => -d = 1 - 2c\n",
    "-c + 2d = 0 => c = 2d\n",
    "```\n",
    "\n",
    "Solve for d\n",
    "```\n",
    "-d = 1 - 2c =>\n",
    "-d = 1 - 2(2d) =>\n",
    "-d = 1 - 4d =>\n",
    "3d = 1 =>\n",
    "d = 1/3\n",
    "```\n",
    "\n",
    "Solve for c\n",
    "```\n",
    "c = 2d =>\n",
    "c = 2(1/3) => \n",
    "c = 2/3\n",
    "```\n",
    "\n",
    "With the following values for c and d, we see that cv + dw = b:\n",
    "```\n",
    "cv + dw = 2/3 * (2, -1) + 1/3 * (-1, 2) = (4/3, -2/3) + (-1/3, 2/3) = (4/3 + -1/3, -2/3 + 2/3) = (1, 0) = b\n",
    "```"
   ]
  }
 ],
 "metadata": {
  "kernelspec": {
   "display_name": "base",
   "language": "python",
   "name": "python3"
  },
  "language_info": {
   "codemirror_mode": {
    "name": "ipython",
    "version": 3
   },
   "file_extension": ".py",
   "mimetype": "text/x-python",
   "name": "python",
   "nbconvert_exporter": "python",
   "pygments_lexer": "ipython3",
   "version": "3.9.7"
  },
  "orig_nbformat": 4
 },
 "nbformat": 4,
 "nbformat_minor": 2
}
