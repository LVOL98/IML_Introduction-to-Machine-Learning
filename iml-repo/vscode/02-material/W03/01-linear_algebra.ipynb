{
  "cells": [
    {
      "cell_type": "code",
      "execution_count": 1,
      "metadata": {
        "autoscroll": null,
        "collapsed": null,
        "deletable": null,
        "format": null,
        "jupyter": {
          "outputs_hidden": null,
          "source_hidden": true
        },
        "name": null,
        "tags": null
      },
      "outputs": [],
      "source": [
        "# import requests\n",
        "# from IPython.core.display import HTML\n",
        "# HTML(f\"\"\"\n",
        "# <style>\n",
        "# @import \"https://cdn.jsdelivr.net/npm/bulma@0.9.4/css/bulma.min.css\";\n",
        "# </style>\n",
        "# \"\"\")"
      ]
    },
    {
      "cell_type": "markdown",
      "metadata": {
        "autoscroll": null,
        "collapsed": null,
        "deletable": null,
        "format": null,
        "jupyter": null,
        "name": null,
        "tags": null
      },
      "source": [
        "# Linear Algebra using Python and Numpy\n",
        "This exercise introduces fundamental linear algebra operations in Numpy and how to use them to solve linear systems of equations. The goal is to familiarise yourself with the concepts of linear algebra and how to use them in Numpy. The following topics will be covered:\n",
        "- Performing matrix operations (elementwise operations, transpose, multiplication, inverse).\n",
        "- Properties of matrix multiplication and inverse.\n",
        "- Representing linear equations in matrix form.\n",
        "- Solving linear equations using the matrix inverse.\n",
        "\n",
        "<article class=\"message\">\n",
        "    <div class=\"message-body\">\n",
        "        <strong>List of individual tasks</strong>\n",
        "        <ul style=\"list-style: none;\">\n",
        "            <li>\n",
        "            <a href=\"#diff\">Task 1: Elementwise difference</a>\n",
        "            </li><li>\n",
        "            <a href=\"#mul_prop\">Task 2: Multiplication properties</a>\n",
        "            </li><li>\n",
        "            <a href=\"#elem_mul\">Task 3: Elementwise multiplication</a>\n",
        "            </li><li>\n",
        "            <a href=\"#inverses\">Task 4: Inverses</a>\n",
        "            </li><li>\n",
        "            <a href=\"#inverse_prop\">Task 5: Inverse properties</a>\n",
        "            </li><li>\n",
        "            <a href=\"#determinant\">Task 6: The determinant</a>\n",
        "            </li><li>\n",
        "            <a href=\"#transpose\">Task 7: Transpose</a>\n",
        "            </li><li>\n",
        "            <a href=\"#eqsys\">Task 8: Solving linear equation system…</a>\n",
        "            </li><li>\n",
        "            <a href=\"#matmul\">Task 9: Implementing matrix multiplica…</a>\n",
        "            </li>\n",
        "        </ul>\n",
        "    </div>\n",
        "</article>\n",
        "The cell below defines matrices `A`\n",
        ", `B`\n",
        ", `C`\n",
        ", `D`\n",
        ", `E`\n",
        " that are used throughout the exercise:\n"
      ]
    },
    {
      "cell_type": "code",
      "execution_count": 2,
      "metadata": {
        "autoscroll": null,
        "collapsed": null,
        "deletable": null,
        "format": null,
        "jupyter": null,
        "name": null,
        "tags": null
      },
      "outputs": [],
      "source": [
        "import numpy as np\n",
        "import matplotlib.pyplot as plt"
      ]
    },
    {
      "cell_type": "code",
      "execution_count": 3,
      "metadata": {
        "autoscroll": null,
        "collapsed": null,
        "deletable": null,
        "format": null,
        "jupyter": null,
        "name": null,
        "tags": null
      },
      "outputs": [],
      "source": [
        "# Define matrices to be used in the tasks:\n",
        "A = np.array([\n",
        "    [1, 0.5, 1/3, 0.25],\n",
        "    [0.5, 1/3, 0.25, 0.2],\n",
        "    [1/3, 0.25, 0.2, 1/6],\n",
        "    [0.25, 0.2, 1/6, 1/7]\n",
        "])\n",
        "\n",
        "B = np.array([\n",
        "    [-16, 15, -14, 13],\n",
        "    [-12, 11, -10, 9],\n",
        "    [-8, 7, -6, 5],\n",
        "    [-4, 3, -2, 1]\n",
        "])\n",
        "\n",
        "C = np.array([\n",
        "    [1, 1/2, 1/3, 1/4],\n",
        "    [1/2, 1/3, 1/4, 1/5],\n",
        "    [1/3, 1/5, 1/7, 1/9],\n",
        "    [1/4, 1/7, 1/8, 1/9],\n",
        "])\n",
        "\n",
        "D = np.array([\n",
        "    [2, 4, 5/2],\n",
        "    [-3/4, 2, 0.25],\n",
        "    [0.25, 0.5, 2]\n",
        "])\n",
        "\n",
        "E = np.array([\n",
        "    [1, -0.5, 3/4],\n",
        "    [3/2, 0.5, -2],\n",
        "    [0.25, 1, 0.5]\n",
        "])\n",
        "\n",
        "D_inv = np.linalg.inv(D)\n",
        "E_inv = np.linalg.inv(E)"
      ]
    },
    {
      "cell_type": "markdown",
      "metadata": {
        "autoscroll": null,
        "collapsed": null,
        "deletable": null,
        "format": null,
        "jupyter": null,
        "name": null,
        "tags": null
      },
      "source": [
        "\n",
        "---\n",
        "**Task 1 (easy): Elementwise difference👩‍💻**\n",
        "1. Calculate $A-B$ in the code cell below.\n",
        "\n",
        "\n",
        "---\n"
      ]
    },
    {
      "cell_type": "code",
      "execution_count": 4,
      "metadata": {
        "autoscroll": null,
        "collapsed": null,
        "deletable": null,
        "format": null,
        "jupyter": null,
        "name": null,
        "tags": null
      },
      "outputs": [
        {
          "data": {
            "text/plain": [
              "array([[ 17.        , -14.5       ,  14.33333333, -12.75      ],\n",
              "       [ 12.5       , -10.66666667,  10.25      ,  -8.8       ],\n",
              "       [  8.33333333,  -6.75      ,   6.2       ,  -4.83333333],\n",
              "       [  4.25      ,  -2.8       ,   2.16666667,  -0.85714286]])"
            ]
          },
          "execution_count": 4,
          "metadata": {},
          "output_type": "execute_result"
        }
      ],
      "source": [
        "np.subtract(A, B)"
      ]
    },
    {
      "cell_type": "markdown",
      "metadata": {
        "autoscroll": null,
        "collapsed": null,
        "deletable": null,
        "format": null,
        "jupyter": null,
        "name": null,
        "tags": null
      },
      "source": [
        "\n",
        "---\n",
        "**Task 2 (easy): Multiplication properties👩‍💻**\n",
        "1. Calculate $AC$ and $CA$ in the code cell below. (You may use either [`np.dot`\n",
        "](https://numpy.org/doc/stable/reference/generated/numpy.dot.html#numpy.dot)\n",
        " or the `@`\n",
        " operator).\n",
        "2. Explain why the results are different.\n",
        "\n",
        "\n",
        "---\n"
      ]
    },
    {
      "cell_type": "code",
      "execution_count": 5,
      "metadata": {
        "autoscroll": null,
        "collapsed": null,
        "deletable": null,
        "format": null,
        "jupyter": null,
        "name": null,
        "tags": null
      },
      "outputs": [
        {
          "name": "stdout",
          "output_type": "stream",
          "text": [
            "[[1.42361111 0.76904762 0.53720238 0.41481481]\n",
            " [0.8        0.43968254 0.31071429 0.24166667]\n",
            " [0.56666667 0.31380952 0.22301587 0.17407407]\n",
            " [0.44126984 0.24540816 0.175      0.13689153]]\n",
            "[[1.42361111 0.8        0.56666667 0.44126984]\n",
            " [0.8        0.46361111 0.33333333 0.26190476]\n",
            " [0.50873016 0.29126984 0.20820106 0.16301587]\n",
            " [0.39087302 0.22609127 0.16256614 0.12777778]]\n",
            "Are AC and CA equal? False\n",
            "Matrix multiplication is not commutative\n"
          ]
        }
      ],
      "source": [
        "ac = np.dot(A, C)#\n",
        "ca = np.dot(C, A)\n",
        "\n",
        "print(ac)\n",
        "print(ca)\n",
        "print('Are AC and CA equal? ' + str(np.array_equal(ac, ca)))\n",
        "print('Matrix multiplication is not commutative')"
      ]
    },
    {
      "cell_type": "markdown",
      "metadata": {
        "autoscroll": null,
        "collapsed": null,
        "deletable": null,
        "format": null,
        "jupyter": null,
        "name": null,
        "tags": null
      },
      "source": [
        "\n",
        "---\n",
        "**Task 3 (easy): Elementwise multiplication👩‍💻**\n",
        "1. Calculate the elementwise multiplication of $A$ and $C$ using the `*`\n",
        " operator.\n",
        "2. Explain the difference between the `*`\n",
        " and `@`\n",
        " operators.\n",
        "\n",
        "\n",
        "---\n"
      ]
    },
    {
      "cell_type": "code",
      "execution_count": 6,
      "metadata": {
        "autoscroll": null,
        "collapsed": null,
        "deletable": null,
        "format": null,
        "jupyter": null,
        "name": null,
        "tags": null
      },
      "outputs": [
        {
          "name": "stdout",
          "output_type": "stream",
          "text": [
            "[[1.         0.25       0.11111111 0.0625    ]\n",
            " [0.25       0.11111111 0.0625     0.04      ]\n",
            " [0.11111111 0.05       0.02857143 0.01851852]\n",
            " [0.0625     0.02857143 0.02083333 0.01587302]]\n",
            "\n",
            "The difference between * and @ is that * does elementwise multiplciation while @ takes the dot product\n",
            "      \n",
            "Elementwise multiplication is done by multiplying each index, e.g. a11 * c11 and so on\n",
            "\n"
          ]
        }
      ],
      "source": [
        "ac = A * C\n",
        "print(ac)\n",
        "print('''\n",
        "The difference between * and @ is that * does elementwise multiplciation while @ takes the dot product\n",
        "      \n",
        "Elementwise multiplication is done by multiplying each index, e.g. a11 * c11 and so on\n",
        "''')"
      ]
    },
    {
      "cell_type": "markdown",
      "metadata": {
        "autoscroll": null,
        "collapsed": null,
        "deletable": null,
        "format": null,
        "jupyter": null,
        "name": null,
        "tags": null
      },
      "source": [
        "\n",
        "---\n",
        "**Task 4 (easy): Inverses👩‍💻**\n",
        "1. Use [`np.linalg.inv`\n",
        "](https://docs.scipy.org/doc/numpy/reference/generated/numpy.linalg.inv.html)\n",
        " to calculate  the inverse of $A$ and $C$.\n",
        "2. Verify that $AA^{-1}=I$ and $CC^{-1}=I$. If the results differ from your expectations, argue why this is the case. _Hint: The question relates to the limitations of floating point numbers._\n",
        "\n",
        "\n",
        "---\n"
      ]
    },
    {
      "cell_type": "code",
      "execution_count": 7,
      "metadata": {
        "autoscroll": null,
        "collapsed": null,
        "deletable": null,
        "format": null,
        "jupyter": null,
        "name": null,
        "tags": null
      },
      "outputs": [
        {
          "name": "stdout",
          "output_type": "stream",
          "text": [
            "Inverse of matrix A: [[   16.  -120.   240.  -140.]\n",
            " [ -120.  1200. -2700.  1680.]\n",
            " [  240. -2700.  6480. -4200.]\n",
            " [ -140.  1680. -4200.  2800.]]\n",
            "Inverse of matrix C: [[   -72.           -225.            525.             42.        ]\n",
            " [  1260.           3675.          -8820.00000001   -630.        ]\n",
            " [ -3696.         -10710.00000001  25830.00000002   1764.        ]\n",
            " [  2700.           7830.00000001 -18900.00000001  -1260.        ]]\n",
            "AA^-1: [[ 1.00000000e+00  0.00000000e+00  2.27373675e-13  0.00000000e+00]\n",
            " [-1.55431223e-15  1.00000000e+00  1.12532206e-13  3.10862447e-14]\n",
            " [ 1.29526020e-15 -3.44909286e-14  1.00000000e+00 -4.48530102e-14]\n",
            " [-5.99520433e-15  8.00629404e-14 -1.61585031e-13  1.00000000e+00]]\n",
            "CC^-1: [[ 1.00000000e+00  2.27373675e-13  0.00000000e+00  5.68434189e-14]\n",
            " [ 2.99760217e-14  1.00000000e+00 -2.09832152e-13  2.58015831e-14]\n",
            " [-6.71808288e-14 -1.11454056e-13  1.00000000e+00  5.19831092e-14]\n",
            " [-1.03374099e-14  2.23278186e-15  1.67100901e-13  1.00000000e+00]]\n",
            "\n",
            "When the computer calcualtes a number, it only has a finite number of bits\n",
            "      \n",
            "This can lead to rounding errors when using floating point numbers, which is the reason why we \n",
            "didn't get the identity matrix in our calculations\n",
            "\n"
          ]
        }
      ],
      "source": [
        "invA = np.linalg.inv(A)\n",
        "invC = np.linalg.inv(C)\n",
        "\n",
        "print(f'Inverse of matrix A: {invA}')\n",
        "print(f'Inverse of matrix C: {invC}')\n",
        "print(f'AA^-1: {np.dot(A, invA)}')\n",
        "print(f'CC^-1: {np.dot(C, invC)}')\n",
        "print('''\n",
        "When the computer calcualtes a number, it only has a finite number of bits\n",
        "      \n",
        "This can lead to rounding errors when using floating point numbers, which is the reason why we \n",
        "didn't get the identity matrix in our calculations\n",
        "''')"
      ]
    },
    {
      "cell_type": "markdown",
      "metadata": {
        "autoscroll": null,
        "collapsed": null,
        "deletable": null,
        "format": null,
        "jupyter": null,
        "name": null,
        "tags": null
      },
      "source": [
        "### Properties\n",
        "\n",
        "---\n",
        "**Task 5 (easy): Inverse properties👩‍💻**\n",
        "Use the code cell below to verify that:\n",
        "1. $D^{-1}E^{-1} = (ED)^{-1}$\n",
        "2. $D^{-1}E^{-1} \\neq (DE)^{-1}$\n",
        "\n",
        "\n",
        "---\n"
      ]
    },
    {
      "cell_type": "code",
      "execution_count": 8,
      "metadata": {
        "autoscroll": null,
        "collapsed": null,
        "deletable": null,
        "format": null,
        "jupyter": null,
        "name": null,
        "tags": null
      },
      "outputs": [
        {
          "name": "stdout",
          "output_type": "stream",
          "text": [
            "D^-1E^-1 = (ED)^-1 True\n",
            "D^-1E^-1 = (DE)^-1 False\n"
          ]
        }
      ],
      "source": [
        "invDinvE = np.dot(np.linalg.inv(D), np.linalg.inv(E))\n",
        "invED = np.linalg.inv(np.dot(E, D))\n",
        "invDE = np.linalg.inv(np.dot(D, E))\n",
        "\n",
        "print(f'D^-1E^-1 = (ED)^-1 {np.allclose(invDinvE, invED)}')\n",
        "print(f'D^-1E^-1 = (DE)^-1 {np.allclose(invDinvE, invDE)}')"
      ]
    },
    {
      "cell_type": "markdown",
      "metadata": {
        "autoscroll": null,
        "collapsed": null,
        "deletable": null,
        "format": null,
        "jupyter": null,
        "name": null,
        "tags": null
      },
      "source": [
        "\n",
        "---\n",
        "**Task 6 (easy): The determinant👩‍💻**\n",
        "1. Calculate the determinant of $A$, $B$, and $C$ using [`np.linalg.det`\n",
        "](https://numpy.org/doc/stable/reference/generated/numpy.linalg.det.html#numpy.linalg.det)\n",
        ".\n",
        "2. Based on the results, determine which of the matrices have an inverse.\n",
        "3. Calculate the inverses of the matrices using [`np.linalg.inv`\n",
        "](https://numpy.org/doc/stable/reference/generated/numpy.linalg.inv.html#numpy.linalg.inv)\n",
        ". Explain what happens and how this is related to your answer in (2).\n",
        "\n",
        "\n",
        "---\n"
      ]
    },
    {
      "cell_type": "code",
      "execution_count": 9,
      "metadata": {
        "autoscroll": null,
        "collapsed": null,
        "deletable": null,
        "format": null,
        "jupyter": null,
        "name": null,
        "tags": null
      },
      "outputs": [
        {
          "name": "stdout",
          "output_type": "stream",
          "text": [
            "\n",
            "For a square matrix, and inverse matrix exists only if it as a non zero determinant\n",
            "\n",
            "Determinant of A: 1.6534391534390412e-07\n",
            "Inverse of A: [[   16.  -120.   240.  -140.]\n",
            " [ -120.  1200. -2700.  1680.]\n",
            " [  240. -2700.  6480. -4200.]\n",
            " [ -140.  1680. -4200.  2800.]]\n",
            "Determinant of B: 0.0\n",
            "Inverse of B does not exists\n",
            "Determinant of C: 1.0498026371034301e-07\n",
            "Inverse of C: [[   -72.           -225.            525.             42.        ]\n",
            " [  1260.           3675.          -8820.00000001   -630.        ]\n",
            " [ -3696.         -10710.00000001  25830.00000002   1764.        ]\n",
            " [  2700.           7830.00000001 -18900.00000001  -1260.        ]]\n"
          ]
        }
      ],
      "source": [
        "detA = np.linalg.det(A)\n",
        "detB = np.linalg.det(B)\n",
        "detC = np.linalg.det(C)\n",
        "invA = np.linalg.inv(A)\n",
        "# invB = np.linalg.inv(B)\n",
        "invC = np.linalg.inv(C)\n",
        "\n",
        "print('''\n",
        "For a square matrix, and inverse matrix exists only if it as a non zero determinant\n",
        "''')\n",
        "print(f'Determinant of A: {detA}')\n",
        "print(f'Inverse of A: {invA}')\n",
        "print(f'Determinant of B: {detB}')\n",
        "print(f'Inverse of B does not exists')\n",
        "print(f'Determinant of C: {detC}')\n",
        "print(f'Inverse of C: {invC}')\n"
      ]
    },
    {
      "cell_type": "markdown",
      "metadata": {
        "autoscroll": null,
        "collapsed": null,
        "deletable": null,
        "format": null,
        "jupyter": null,
        "name": null,
        "tags": null
      },
      "source": [
        "\n",
        "---\n",
        "**Task 7 (easy): Transpose👩‍💻**\n",
        "1. Verify that $(D^{-1})^\\top$ and ${D^\\top}^{-1}$ are equal.\n",
        "\n",
        "\n",
        "**Hint**\n",
        "The transpose of a matrix `A`\n",
        " in Numpy can be calculated with `A.T`\n",
        ".\n",
        "\n",
        "\n",
        "\n",
        "---\n"
      ]
    },
    {
      "cell_type": "code",
      "execution_count": 10,
      "metadata": {
        "autoscroll": null,
        "collapsed": null,
        "deletable": null,
        "format": null,
        "jupyter": null,
        "name": null,
        "tags": null
      },
      "outputs": [
        {
          "name": "stdout",
          "output_type": "stream",
          "text": [
            "(D^-1)^T == D^T^-1: True\n"
          ]
        }
      ],
      "source": [
        "print(f'(D^-1)^T == D^T^-1: {np.allclose(np.transpose(np.linalg.inv(D)), np.linalg.inv(np.transpose(D)))}')"
      ]
    },
    {
      "cell_type": "markdown",
      "metadata": {
        "autoscroll": null,
        "collapsed": null,
        "deletable": null,
        "format": null,
        "jupyter": null,
        "name": null,
        "tags": null
      },
      "source": [
        "## Linear equations\n",
        "Matrices can represent systems of linear equations\n",
        "\n",
        "$$\n",
        "Ax=b\n",
        "$$\n",
        "\n",
        "where $A$ is the coefficient matrix, $x$ vector of unknowns, and $b$ is a vector of the dependent variables.\n",
        "A solution can be found using\n",
        "\n",
        "$$\n",
        "\\begin{align*}\n",
        "A^{-1}Ax&=A^{-1}b\\\\\n",
        "x &= A^{-1}b.\n",
        "\\end{align*}\n",
        "$$\n",
        "\n",
        "\n",
        "---\n",
        "**Task 8 (medium): Solving linear equation systems👩‍💻**\n",
        "For each of the following sets of linear equations determine whether a unique solution exits. Recall that the determinant \n",
        "can be used to determine whether a matrix has an inverse:\n",
        "a)\n",
        "\n",
        "$$ \n",
        "\\begin{align*}\n",
        "2x + 3y  &= -1\\\\\n",
        "x + y  &= 0\\\\\n",
        "\\end{align*}\n",
        "$$\n",
        "\n",
        "b)\n",
        "\n",
        "$$\n",
        "\\begin{align*}\n",
        "1x + 0y  &= 5\\\\\n",
        "0x + 1y  &= 7\\\\\n",
        "\\end{align*}\n",
        "$$\n",
        "\n",
        "c)\n",
        "\n",
        "$$\n",
        "\\begin{align*}\n",
        "0x + y  &= -1\\\\\n",
        "-2x + -3y  &= 2\\\\\n",
        "\\end{align*}\n",
        "$$\n",
        "\n",
        "d)\n",
        "\n",
        "$$\n",
        "\\begin{align*}\n",
        "x + -3y + 3z &= 0.5\\\\\n",
        "x - 5y + 3z& = 0.5\\\\\n",
        "6z + -6y + 4x &= 1.\n",
        "\\end{align*}\n",
        "$$\n",
        "\n",
        "e)\n",
        "\n",
        "$$\n",
        "\\begin{align*}\n",
        "2x + 3y + 4z &= 2\\\\\n",
        "x + 4z + y &= -2\\\\\n",
        "4z + 5y + 2x &= 3.\n",
        "\\end{align*}\n",
        "$$\n",
        "\n",
        "f)\n",
        "\n",
        "$$\n",
        "\\begin{align*}\n",
        "x + y + z &= 2\\\\\n",
        "2x + 2z + 2y &= -2\\\\\n",
        "3z + 3y + 3x &= 3.\n",
        "\\end{align*}\n",
        "$$\n",
        "\n",
        "\n",
        "---\n"
      ]
    },
    {
      "cell_type": "code",
      "execution_count": 11,
      "metadata": {
        "autoscroll": null,
        "collapsed": null,
        "deletable": null,
        "format": null,
        "jupyter": null,
        "name": null,
        "tags": null
      },
      "outputs": [
        {
          "name": "stdout",
          "output_type": "stream",
          "text": [
            "x: 1.0, y: -1.0\n",
            "x: 5.0, y: 7.0\n",
            "x: 0.5, y: -1.0\n",
            "x: 0.05555555555555554, y: 0.0, z: 0.16666666666666669\n",
            "x: 1.90625, y: -1.0625, z: 0.34375\n",
            "No solution exists, determinant = 0\n"
          ]
        }
      ],
      "source": [
        "def solveLinearEquation(a, b):\n",
        "    if np.linalg.det(a) == 0:\n",
        "        print('No solution exists, determinant = 0')\n",
        "        return None\n",
        "    invA = np.linalg.inv(a)\n",
        "\n",
        "    res = np.dot(invA, b)\n",
        "    if len(res) == 2:\n",
        "        print(f'x: {res[0]}, y: {res[1]}')\n",
        "    if len(res) == 3:\n",
        "        print(f'x: {res[0]}, y: {res[1]}, z: {res[2]}')\n",
        "\n",
        "a = np.array([[2, 3], [1, 1]])\n",
        "solveLinearEquation(a, np.array([-1, 0]))\n",
        "\n",
        "a = np.array([[1, 0], [0, 1]])\n",
        "solveLinearEquation(a, np.array([5, 7]))\n",
        "\n",
        "a = np.array([[0, 1], [-2, -3]])\n",
        "solveLinearEquation(a, np.array([-1, 2]))\n",
        "\n",
        "a = np.array([[0, -3, 3], [0, -5, 3], [6, -6, 4]])\n",
        "solveLinearEquation(a, np.array([0.5, 0.5, 1]))\n",
        "\n",
        "a = np.array([[2, 3, 4], [1, 4, 1], [4, 5, 2]])\n",
        "solveLinearEquation(a, np.array([2, -2, 3]))\n",
        "\n",
        "a = np.array([[1, 1, 1], [2, 2, 2], [3, 3, 3]])\n",
        "solveLinearEquation(a, np.array([2, -2, 3]))\n"
      ]
    },
    {
      "cell_type": "markdown",
      "metadata": {
        "autoscroll": null,
        "collapsed": null,
        "deletable": null,
        "format": null,
        "jupyter": null,
        "name": null,
        "tags": null
      },
      "source": [
        "## Matrix multiplication\n",
        "For an $N\\times D$ matrix $A$ and a $D\\times K$ matrix $B$, the \n",
        "matrix multiplication (or matrix product) is a new $N\\times K$ matrix $R$. Elements $R_{ij}$ of $R$ can be calculated \n",
        "using the following formula\n",
        "\n",
        "$$\n",
        "R_{ij} = \\sum_{d=1}^D A_{id}B_{dj}.\n",
        "$$\n",
        "\n",
        "In other words, it is the dot product of the $i$’th row vector of $A$ and the $j$’th column vector of $B$.\n",
        "\n",
        "---\n",
        "**Task 9 (medium): Implementing matrix multiplication _(optional)_👩‍💻**\n",
        "Implement matrix multiplication in the `matmul`\n",
        " function in the code cell below. You may use either Python lists or Numpy arrays, but the intention is to not use Numpy’s built-in functions for matrix multiplication (i.e., `np.dot`\n",
        ", `@`\n",
        ", `np.matmul`\n",
        ", etc.). You may, however, use `np.dot`\n",
        " for the purpose of computing the inner product between row and column vectors.\n",
        "\n",
        "**Hint**\n",
        "It might be helpful to calculate the correct result by hand first, to make debugging easier.\n",
        "\n",
        "\n",
        "\n",
        "---\n"
      ]
    },
    {
      "cell_type": "code",
      "execution_count": 12,
      "metadata": {
        "autoscroll": null,
        "collapsed": null,
        "deletable": null,
        "format": null,
        "jupyter": null,
        "name": null,
        "tags": null
      },
      "outputs": [],
      "source": [
        "def matmul(a, b):\n",
        "    # Implement this function\n",
        "    ...\n",
        "    \n",
        "ma = [\n",
        "    [1, 2, 3],\n",
        "    [4, 5, 6],\n",
        "    [7, 8, 9]\n",
        "]\n",
        "\n",
        "mb = [\n",
        "    [5, 4, 9],\n",
        "    [2, 1, 7],\n",
        "    [8, 0, 1]\n",
        "]\n",
        "\n",
        "matmul(ma, mb)"
      ]
    },
    {
      "cell_type": "markdown",
      "metadata": {
        "autoscroll": null,
        "collapsed": null,
        "deletable": null,
        "format": null,
        "jupyter": null,
        "name": null,
        "tags": null
      },
      "source": [
        "---\n"
      ]
    }
  ],
  "metadata": {
    "kernelspec": {
      "display_name": "Python",
      "language": "python3",
      "name": "python3"
    },
    "language_info": {
      "codemirror_mode": {
        "name": "ipython",
        "version": 3
      },
      "file_extension": ".py",
      "mimetype": "text/x-python",
      "name": "python",
      "nbconvert_exporter": "python",
      "pygments_lexer": "ipython3",
      "version": "3.10.12"
    }
  },
  "nbformat": 4,
  "nbformat_minor": 5
}
