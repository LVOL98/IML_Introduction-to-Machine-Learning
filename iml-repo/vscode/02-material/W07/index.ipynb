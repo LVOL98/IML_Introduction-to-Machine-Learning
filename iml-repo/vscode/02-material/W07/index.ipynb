{
  "cells": [
    {
      "cell_type": "markdown",
      "id": "_bpwCMqd3N-xXoet7JecB",
      "metadata": {},
      "source": [
        "# Regularization and filtering\n",
        "This week you will complete two exercises. The first one is related to regularisation, while the second one is related to image filtering. \n"
      ]
    }
  ],
  "metadata": {
    "kernelspec": {
      "display_name": "Python",
      "language": "python3",
      "name": "python3"
    },
    "language_info": {
      "codemirror_mode": {
        "name": "ipython",
        "version": 3
      },
      "file_extension": "py",
      "mimetype": "text/x-python",
      "name": "python"
    }
  },
  "nbformat": 4,
  "nbformat_minor": 5
}
