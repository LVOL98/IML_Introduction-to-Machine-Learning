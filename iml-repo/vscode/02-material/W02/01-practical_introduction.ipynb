{
  "cells": [
    {
      "cell_type": "code",
      "execution_count": 3,
      "metadata": {
        "autoscroll": null,
        "collapsed": null,
        "deletable": null,
        "format": null,
        "jupyter": {
          "outputs_hidden": null,
          "source_hidden": true
        },
        "name": null,
        "tags": null
      },
      "outputs": [
        {
          "data": {
            "text/html": [
              "\n",
              "<style>\n",
              "@import \"https://cdn.jsdelivr.net/npm/bulma@0.9.4/css/bulma.min.css\";\n",
              "</style>\n"
            ],
            "text/plain": [
              "<IPython.core.display.HTML object>"
            ]
          },
          "execution_count": 3,
          "metadata": {},
          "output_type": "execute_result"
        }
      ],
      "source": [
        "import requests\n",
        "from IPython.core.display import HTML\n",
        "HTML(f\"\"\"\n",
        "<style>\n",
        "@import \"https://cdn.jsdelivr.net/npm/bulma@0.9.4/css/bulma.min.css\";\n",
        "</style>\n",
        "\"\"\")"
      ]
    },
    {
      "cell_type": "markdown",
      "metadata": {
        "autoscroll": null,
        "collapsed": null,
        "deletable": null,
        "format": null,
        "jupyter": null,
        "name": null,
        "tags": null
      },
      "source": [
        "# Practical introduction to Python and Numpy\n",
        "\n",
        "**Important**\n",
        "Please use either _Jupyter Lab_ (not notebook) or _Visual Studio Code_ to solve the exercises.\n",
        "\n",
        "\n",
        "<article class=\"message\">\n",
        "    <div class=\"message-body\">\n",
        "        <strong>Overview of tasks</strong>\n",
        "        <ul style=\"list-style: none;\">\n",
        "            <li>\n",
        "            <a href=\"#norm\">Task 1: Vector length</a>\n",
        "            </li><li>\n",
        "            <a href=\"#comprehensions\">Task 2: List comprehensions</a>\n",
        "            </li><li>\n",
        "            <a href=\"#dotproduct\">Task 3: Inner product</a>\n",
        "            </li><li>\n",
        "            <a href=\"#indexing\">Task 4: Array indexing</a>\n",
        "            </li><li>\n",
        "            <a href=\"#norm_np\">Task 5: Length using numpy</a>\n",
        "            </li><li>\n",
        "            <a href=\"#angle\">Task 6: Angle calculation</a>\n",
        "            </li><li>\n",
        "            <a href=\"#distances\">Task 7: Distances</a>\n",
        "            </li>\n",
        "        </ul>\n",
        "    </div>\n",
        "</article>\n",
        "This exercise delves deeper into the syntax of Python and NumPy, providing guidelines for effectively working with arrays using both Python’s native structures (called lists) and NumPy arrays. The first part of the exercise is about implementing basic linear algebra operations using native Python types while the second part is about using Numpy.\n",
        "**Note:** Run each code cell as you progress through the exercise. Incomplete cells are part of tasks and have to be completed by you.\n",
        "\n",
        "\n",
        "## Using native types in Python to implement basic linear algebra operations\n",
        "The vectors `va`\n",
        " and `vb`\n",
        " are defined as:\n"
      ]
    },
    {
      "cell_type": "code",
      "execution_count": 4,
      "metadata": {
        "autoscroll": null,
        "collapsed": null,
        "deletable": null,
        "format": null,
        "jupyter": null,
        "name": null,
        "tags": null
      },
      "outputs": [],
      "source": [
        "va = [2, 2]\n",
        "vb = [3, 4]\n"
      ]
    },
    {
      "cell_type": "markdown",
      "metadata": {
        "autoscroll": null,
        "collapsed": null,
        "deletable": null,
        "format": null,
        "jupyter": null,
        "name": null,
        "tags": null
      },
      "source": [
        "## Vector length\n",
        "The length (L2-norm) of a vector is defined as\n",
        "\n",
        "$$||v|| = \\sqrt{\\sum_{i=1}^N v_i^2}.$$\n",
        "\n",
        "\n",
        "---\n",
        "**Task 1 (easy): Vector length👩‍💻**\n",
        "1. Implement the length as a Python function in the code cell below.\n",
        "2. Calculate the length of the vectors `va`\n",
        " and `vb`\n",
        " using the implementation from (1).\n",
        "3. Verify the result using pen and paper.\n",
        "\n",
        "**Hints:** \n",
        "- For-loops in Python loop through the elements of an iterator and takes the current iterator value as the iteration variable, similar to for-each loops in Java.\n",
        "- The `range(x)`\n",
        " function in Python returns an iterator of integers from $0,\\dots, x-1$.\n",
        "- The length of a list `l`\n",
        " can be found using the `len(l)`\n",
        " function.\n",
        "- The `**`\n",
        " operator implements exponentiation in Python. For the square root of `x`\n",
        ", use `x**(1/2)`\n",
        ".\n",
        "- Use Python’s built in `help(<function/class/method>)`\n",
        " function for additional documentation. In Jupyter Lab, you can also open a documentation popover by pressing placing the text cursor on the desired symbol and pressing **Shift + Tab**.\n",
        "\n",
        "\n",
        "---\n"
      ]
    },
    {
      "cell_type": "code",
      "execution_count": 5,
      "metadata": {
        "autoscroll": null,
        "collapsed": null,
        "deletable": null,
        "format": null,
        "jupyter": null,
        "name": null,
        "tags": null
      },
      "outputs": [
        {
          "name": "stdout",
          "output_type": "stream",
          "text": [
            "a 2.8284271247461903\n",
            "b 5.0\n"
          ]
        }
      ],
      "source": [
        "import math\n",
        "\n",
        "def length(v):\n",
        "    sum = 0\n",
        "    for vi in v:\n",
        "        sum = sum + (vi**2)\n",
        "    \n",
        "    return math.sqrt(sum)\n",
        "\n",
        "print('a', length(va))\n",
        "print('b', length(vb))\n",
        "assert length(va) == 8**0.5\n",
        "assert length(vb) == 5"
      ]
    },
    {
      "cell_type": "markdown",
      "metadata": {
        "autoscroll": null,
        "collapsed": null,
        "deletable": null,
        "format": null,
        "jupyter": null,
        "name": null,
        "tags": null
      },
      "source": [
        "## List comprehensions\n",
        "Using loops for list iteration requires quite a lot of boilerplate code. Fortunately, Python’s _list comprehensions_ are \n",
        "created exactly for making list iteration more expressive and easier to understand.\n",
        "A list comprehension has the following form\n",
        "``` #4\n",
        "[f(e) for e in list]\n",
        "\n",
        "```\n",
        "[]\n",
        "where $f$ is an arbitrary function applied to each element $e$. For people familiar with functional programming, this \n",
        "is equivalent to the `map`\n",
        " function. _Note: List comprehensions can also include guard rules. You can read more about \n",
        "list comprehensions [here](https://docs.python.org/3/tutorial/datastructures.html#list-comprehensions)\n",
        "._\n",
        "Python also provides a wealth of utility functions for performing common list operations. One such function is\n",
        "``` #5\n",
        "sum(l)\n",
        "\n",
        "```\n",
        "[]\n",
        "which sums all elements in the list argument.\n",
        "\n",
        "---\n",
        "**Task 2 (easy): List comprehensions👩‍💻**\n",
        "1. Implement the `length2`\n",
        " function in the cell below by using a list comprehension and the [`sum`\n",
        " function](https://docs.python.org/3.10/library/functions.html#sum)\n",
        ".    - First, exponentiate each element in a list comprehension, resulting in a new list of values.\n",
        "    - Then use the `sum`\n",
        " function to add all elements and calculate the square root of the sum.\n",
        "\n",
        "\n",
        "2. Verify the result using pen and paper.\n",
        "\n",
        "\n",
        "---\n"
      ]
    },
    {
      "cell_type": "code",
      "execution_count": 6,
      "metadata": {
        "autoscroll": null,
        "collapsed": null,
        "deletable": null,
        "format": null,
        "jupyter": null,
        "name": null,
        "tags": null
      },
      "outputs": [
        {
          "name": "stdout",
          "output_type": "stream",
          "text": [
            "a 2.8284271247461903\n",
            "b 5.0\n"
          ]
        }
      ],
      "source": [
        "def length2(v):\n",
        "    squared = [vi**2 for vi in v]\n",
        "    return math.sqrt(sum(squared))\n",
        "\n",
        "\n",
        "print('a', length2(va))\n",
        "print('b', length2(vb))\n",
        "assert length2(va) == 8**0.5\n",
        "assert length2(vb) == 5"
      ]
    },
    {
      "cell_type": "markdown",
      "metadata": {
        "autoscroll": null,
        "collapsed": null,
        "deletable": null,
        "format": null,
        "jupyter": null,
        "name": null,
        "tags": null
      },
      "source": [
        "\n",
        "---\n",
        "**Task 3 (easy): Inner product👩‍💻**\n",
        "In this task you will calculate the dot product of two vectors using lists. Recall the definition of the dot product:\n",
        "\n",
        "$$\n",
        "a\\cdot b = \\sum_{i=1}^N a_ib_i.\n",
        "$$\n",
        "\n",
        "1. Complete the function `dot`\n",
        " below by implementing the equation for inner (dot) product using either for-loops or list \n",
        "comprehensions.    - _Note: If you want to use list comprehensions you need the function `zip`\n",
        " to interleave the two lists. The `zip`\n",
        " function is \n",
        "equivalent to `zip`\n",
        " in most functional programming languages. The documentation can be found \n",
        "[here](https://docs.python.org/3/library/functions.html#zip)\n",
        "_\n",
        "\n",
        "\n",
        "2. Test the implementation on `va`\n",
        " and `vb`\n",
        ". Verify the results using pen and paper.\n",
        "\n",
        "\n",
        "---\n"
      ]
    },
    {
      "cell_type": "code",
      "execution_count": 7,
      "metadata": {
        "autoscroll": null,
        "collapsed": null,
        "deletable": null,
        "format": null,
        "jupyter": null,
        "name": null,
        "tags": null
      },
      "outputs": [],
      "source": [
        "def dot(a, b):\n",
        "    return sum([ai * bi for ai, bi in zip(a, b)])\n",
        "\n",
        "# Tests\n",
        "assert dot(va, vb) == 14"
      ]
    },
    {
      "cell_type": "markdown",
      "metadata": {
        "autoscroll": null,
        "collapsed": null,
        "deletable": null,
        "format": null,
        "jupyter": null,
        "name": null,
        "tags": null
      },
      "source": [
        "## Introducing Numpy\n",
        "Numpy makes it way easier to work with multidimensional arrays and provides a significant performance increase. Refer to this week's tutorial\n",
        " for further information.\n",
        "The following code imports the `numpy`\n",
        " package and creates a $3\\times 3$ matrix:\n",
        "**Note:** Note that the import statement renames `numpy`\n",
        " to `np`\n",
        ". This is commonly done in Python to avoid namespace confusion.\n",
        "\n",
        "\n"
      ]
    },
    {
      "cell_type": "code",
      "execution_count": 8,
      "metadata": {
        "autoscroll": null,
        "collapsed": null,
        "deletable": null,
        "format": null,
        "jupyter": null,
        "name": null,
        "tags": null
      },
      "outputs": [],
      "source": [
        "import numpy as np\n",
        "\n",
        "A = np.array([\n",
        "    [1, 2, 3],\n",
        "    [3, 4, 9],\n",
        "    [5, 7, 3]\n",
        "])\n"
      ]
    },
    {
      "cell_type": "markdown",
      "metadata": {
        "autoscroll": null,
        "collapsed": null,
        "deletable": null,
        "format": null,
        "jupyter": null,
        "name": null,
        "tags": null
      },
      "source": [
        "Use `A.shape`\n",
        " to get the dimensions (size) of the array. The `shape`\n",
        " property works on all Numpy arrays, e.g. `(A*2).shape`\n",
        " works as well (we will \n",
        "return to array operations later in this exercise).\n",
        "The cell below prints the shape of `A`\n",
        ":\n"
      ]
    },
    {
      "cell_type": "code",
      "execution_count": 9,
      "metadata": {
        "autoscroll": null,
        "collapsed": null,
        "deletable": null,
        "format": null,
        "jupyter": null,
        "name": null,
        "tags": null
      },
      "outputs": [
        {
          "data": {
            "text/plain": [
              "(3, 3)"
            ]
          },
          "execution_count": 9,
          "metadata": {},
          "output_type": "execute_result"
        }
      ],
      "source": [
        "A.shape\n"
      ]
    },
    {
      "cell_type": "markdown",
      "metadata": {
        "autoscroll": null,
        "collapsed": null,
        "deletable": null,
        "format": null,
        "jupyter": null,
        "name": null,
        "tags": null
      },
      "source": [
        "## Slicing\n",
        "Slicing allows you to select a sequence or area of array elements using the `<start>:<stop>`\n",
        " notation, e.g. `0:2`\n",
        ". Inspect the code cell below for a few examples:\n"
      ]
    },
    {
      "cell_type": "code",
      "execution_count": 10,
      "metadata": {
        "autoscroll": null,
        "collapsed": null,
        "deletable": null,
        "format": null,
        "jupyter": null,
        "name": null,
        "tags": null
      },
      "outputs": [
        {
          "name": "stdout",
          "output_type": "stream",
          "text": [
            "single element [1 2 3]\n",
            "vector of elements [2 4]\n",
            "matrix of elements\n",
            " [[1 2]\n",
            " [3 4]\n",
            " [5 7]]\n"
          ]
        }
      ],
      "source": [
        "single = A[0]\n",
        "print('single element', single)\n",
        "\n",
        "vector = A[:2, 1] # 0's can be ommitted.\n",
        "print('vector of elements', vector)\n",
        "\n",
        "matrix = A[:, :2]\n",
        "print('matrix of elements\\n', matrix)\n"
      ]
    },
    {
      "cell_type": "markdown",
      "metadata": {
        "autoscroll": null,
        "collapsed": null,
        "deletable": null,
        "format": null,
        "jupyter": null,
        "name": null,
        "tags": null
      },
      "source": [
        "It is possible to use negative indices. These are equivalent to counting from the end of the array, i.e. `-<idx>`\n",
        "\n",
        "is equivalent to `len(a)-<idx>`\n",
        ". A few examples:\n"
      ]
    },
    {
      "cell_type": "code",
      "execution_count": 11,
      "metadata": {
        "autoscroll": null,
        "collapsed": null,
        "deletable": null,
        "format": null,
        "jupyter": null,
        "name": null,
        "tags": null
      },
      "outputs": [
        {
          "name": "stdout",
          "output_type": "stream",
          "text": [
            "single 3\n",
            "arange [[1 2]]\n"
          ]
        }
      ],
      "source": [
        "single = A[-1, -1]\n",
        "print('single', single)\n",
        "\n",
        "arange = A[0:-2, 0:-1]\n",
        "print('arange', arange)\n"
      ]
    },
    {
      "cell_type": "markdown",
      "metadata": {
        "autoscroll": null,
        "collapsed": null,
        "deletable": null,
        "format": null,
        "jupyter": null,
        "name": null,
        "tags": null
      },
      "source": [
        "\n",
        "**Info**\n",
        "You can find the official documentation for Numpy slicing [here](https://numpy.org/doc/stable/user/basics.indexing.html)\n",
        ".\n",
        "\n",
        "\n",
        "\n",
        "---\n",
        "**Task 4 (easy): Array indexing👩‍💻**\n",
        "Use slicing to create the following variables:\n",
        "1. Create a 2x2 matrix `ur`\n",
        " from of the upper right corner of `A`\n",
        ".\n",
        "2. Extract the 2nd row of `A`\n",
        " and store it in the variable `row`\n",
        ".\n",
        "3. Extract the 1st column of `A`\n",
        " and store it in the variable `col`\n",
        ".\n",
        "\n",
        "\n",
        "---\n"
      ]
    },
    {
      "cell_type": "code",
      "execution_count": 12,
      "metadata": {
        "autoscroll": null,
        "collapsed": null,
        "deletable": null,
        "format": null,
        "jupyter": null,
        "name": null,
        "tags": null
      },
      "outputs": [
        {
          "name": "stdout",
          "output_type": "stream",
          "text": [
            "[[1 2 3]\n",
            " [3 4 9]\n",
            " [5 7 3]]\n",
            "upper right\n",
            " [[2 3]\n",
            " [4 9]]\n",
            "row [3 4 9]\n",
            "column [1 3 5]\n"
          ]
        }
      ],
      "source": [
        "print(A)\n",
        "ur = A[:2, 1:]\n",
        "row = A[1]\n",
        "col = A[:, 0]\n",
        "print('upper right\\n', ur)\n",
        "print('row', row)\n",
        "print('column', col)\n",
        "\n",
        "# # Tests\n",
        "assert np.all(ur == np.array([[2, 3], [4, 9]]))\n",
        "assert np.all(row == np.array([3, 4, 9]))\n",
        "assert np.all(col == np.array([1, 3, 5]))"
      ]
    },
    {
      "cell_type": "markdown",
      "metadata": {
        "autoscroll": null,
        "collapsed": null,
        "deletable": null,
        "format": null,
        "jupyter": null,
        "name": null,
        "tags": null
      },
      "source": [
        "---\n",
        "## Using Numpy array operations\n",
        "While these implementations seem fine for small inputs, they become unbearingly slow for large arrays.\n",
        "Let’s try an example. The code below uses numpy to generate $1000000$-dimensional vectors of random numbers:\n"
      ]
    },
    {
      "cell_type": "code",
      "execution_count": 13,
      "metadata": {
        "autoscroll": null,
        "collapsed": null,
        "deletable": null,
        "format": null,
        "jupyter": null,
        "name": null,
        "tags": null
      },
      "outputs": [],
      "source": [
        "ta = np.random.randint(100, size=1000000)\n",
        "tb = np.random.randint(100, size=1000000)\n"
      ]
    },
    {
      "cell_type": "markdown",
      "metadata": {
        "autoscroll": null,
        "collapsed": null,
        "deletable": null,
        "format": null,
        "jupyter": null,
        "name": null,
        "tags": null
      },
      "source": [
        "Jupyter notebooks support the command `%timeit <statement>`\n",
        ", which runs a performance test on a given statement. This makes it possible to performance test the native implementation of the inner product from [Task 3](#dotproduct):\n"
      ]
    },
    {
      "cell_type": "code",
      "execution_count": 14,
      "metadata": {
        "autoscroll": null,
        "collapsed": null,
        "deletable": null,
        "format": null,
        "jupyter": null,
        "name": null,
        "tags": null
      },
      "outputs": [
        {
          "name": "stdout",
          "output_type": "stream",
          "text": [
            "109 ms ± 691 µs per loop (mean ± std. dev. of 7 runs, 10 loops each)\n"
          ]
        }
      ],
      "source": [
        "%timeit dot(ta, tb)\n"
      ]
    },
    {
      "cell_type": "markdown",
      "metadata": {
        "autoscroll": null,
        "collapsed": null,
        "deletable": null,
        "format": null,
        "jupyter": null,
        "name": null,
        "tags": null
      },
      "source": [
        "Not very fast, huh? Now, let’s try using Numpy’s built-in function for inner products, `np.dot`\n",
        ":\n"
      ]
    },
    {
      "cell_type": "code",
      "execution_count": 15,
      "metadata": {
        "autoscroll": null,
        "collapsed": null,
        "deletable": null,
        "format": null,
        "jupyter": null,
        "name": null,
        "tags": null
      },
      "outputs": [
        {
          "name": "stdout",
          "output_type": "stream",
          "text": [
            "561 µs ± 21.5 µs per loop (mean ± std. dev. of 7 runs, 1,000 loops each)\n"
          ]
        }
      ],
      "source": [
        "%timeit np.dot(ta, tb)\n"
      ]
    },
    {
      "cell_type": "markdown",
      "metadata": {
        "autoscroll": null,
        "collapsed": null,
        "deletable": null,
        "format": null,
        "jupyter": null,
        "name": null,
        "tags": null
      },
      "source": [
        "This is approximately 300 times faster than the native implementation (on the test computer, anyway)!. What about other list operations? Let’s try the `sum`\n",
        " function:\n"
      ]
    },
    {
      "cell_type": "code",
      "execution_count": 16,
      "metadata": {
        "autoscroll": null,
        "collapsed": null,
        "deletable": null,
        "format": null,
        "jupyter": null,
        "name": null,
        "tags": null
      },
      "outputs": [
        {
          "name": "stdout",
          "output_type": "stream",
          "text": [
            "41.3 ms ± 322 µs per loop (mean ± std. dev. of 7 runs, 10 loops each)\n"
          ]
        }
      ],
      "source": [
        "%timeit sum(ta)\n"
      ]
    },
    {
      "cell_type": "code",
      "execution_count": 17,
      "metadata": {
        "autoscroll": null,
        "collapsed": null,
        "deletable": null,
        "format": null,
        "jupyter": null,
        "name": null,
        "tags": null
      },
      "outputs": [
        {
          "name": "stdout",
          "output_type": "stream",
          "text": [
            "124 µs ± 15.5 µs per loop (mean ± std. dev. of 7 runs, 10,000 loops each)\n"
          ]
        }
      ],
      "source": [
        "%timeit np.sum(ta)\n"
      ]
    },
    {
      "cell_type": "markdown",
      "metadata": {
        "autoscroll": null,
        "collapsed": null,
        "deletable": null,
        "format": null,
        "jupyter": null,
        "name": null,
        "tags": null
      },
      "source": [
        "Again, a similar performance improvement. Because of its performance, Numpy should always be used instead of native Python wherever possible. In general, you should expect a speed improvement of several orders of magnitude when using Numpy.\n",
        "## Adapting Python code to Numpy\n",
        "This exercise is about adapting the `length`\n",
        " function implemented int [Task 1](#norm) to Numpy. Overloaded operators are common in Numpy. For example, to exponentiate the elements of a Numpy array `x`\n",
        " to the $4$’th power, simply use the `**`\n",
        " \n",
        "operator on the array itself, i.e. `x**4`\n",
        ".\n",
        "\n",
        "---\n",
        "**Task 5 (easy): Length using numpy👩‍💻**\n",
        "1. In the cell below, implement `length_np`\n",
        " using Numpy. You can use Numpy’s sum function (`np.sum`\n",
        ").\n",
        "2. Test it on the provided input `vec`\n",
        ".\n",
        "\n",
        "\n",
        "---\n"
      ]
    },
    {
      "cell_type": "code",
      "execution_count": 22,
      "metadata": {
        "autoscroll": null,
        "collapsed": null,
        "deletable": null,
        "format": null,
        "jupyter": null,
        "name": null,
        "tags": null
      },
      "outputs": [
        {
          "name": "stdout",
          "output_type": "stream",
          "text": [
            "3.7416573867739413\n"
          ]
        }
      ],
      "source": [
        "def length_np(v):\n",
        "   return np.sqrt(np.sum(v))\n",
        "\n",
        "vec = np.array([2, 3, 4, 5])\n",
        "print(length_np(vec))"
      ]
    },
    {
      "cell_type": "markdown",
      "metadata": {
        "autoscroll": null,
        "collapsed": null,
        "deletable": null,
        "format": null,
        "jupyter": null,
        "name": null,
        "tags": null
      },
      "source": [
        "Compare the Python and Numpy implementations using an array of random numbers:\n"
      ]
    },
    {
      "cell_type": "code",
      "execution_count": 23,
      "metadata": {
        "autoscroll": null,
        "collapsed": null,
        "deletable": null,
        "format": null,
        "jupyter": null,
        "name": null,
        "tags": null
      },
      "outputs": [],
      "source": [
        "vr = np.random.randint(100, size=10000)\n"
      ]
    },
    {
      "cell_type": "code",
      "execution_count": 24,
      "metadata": {
        "autoscroll": null,
        "collapsed": null,
        "deletable": null,
        "format": null,
        "jupyter": null,
        "name": null,
        "tags": null
      },
      "outputs": [
        {
          "name": "stdout",
          "output_type": "stream",
          "text": [
            "4.22 µs ± 70.7 ns per loop (mean ± std. dev. of 7 runs, 100,000 loops each)\n",
            "821 µs ± 9.43 µs per loop (mean ± std. dev. of 7 runs, 1,000 loops each)\n",
            "827 µs ± 8 µs per loop (mean ± std. dev. of 7 runs, 1,000 loops each)\n"
          ]
        }
      ],
      "source": [
        "%timeit length_np(vr)\n",
        "%timeit length(vr)\n",
        "%timeit length2(vr)\n"
      ]
    },
    {
      "cell_type": "markdown",
      "metadata": {
        "autoscroll": null,
        "collapsed": null,
        "deletable": null,
        "format": null,
        "jupyter": null,
        "name": null,
        "tags": null
      },
      "source": [
        "This should reveal a large difference between the Numpy and Python implementations.\n",
        "## Angles between vectors\n",
        "The angle between vectors $\\mathbf{u}$ and $\\mathbf{v}$ is described by the following relation (as shown in the lecture):\n",
        "\n",
        "$$\n",
        "\\cos \\theta = \\frac{\\mathbf{u}\\cdot \\mathbf{v}}{\\|\\mathbf{u}\\|\\|\\mathbf{v}\\|}\n",
        "$$\n",
        "\n",
        "_Note to self: Return the result as a tuple of (radians, degrees). Check what resources we currently have on tuples_\n",
        "\n",
        "---\n",
        "**Task 6 (easy): Angle calculation👩‍💻**\n",
        "1. Use Numpy to implement the `angle`\n",
        " function in the code cell below. The function should return the angle in radians between inputs `a`\n",
        " and `b`\n",
        ".\n",
        "2. Verify the example below using pen and paper.\n",
        "\n",
        "\n",
        "---\n"
      ]
    },
    {
      "cell_type": "code",
      "execution_count": 32,
      "metadata": {
        "autoscroll": null,
        "collapsed": null,
        "deletable": null,
        "format": null,
        "jupyter": null,
        "name": null,
        "tags": null
      },
      "outputs": [
        {
          "name": "stdout",
          "output_type": "stream",
          "text": [
            "1.1426035712129559\n"
          ]
        }
      ],
      "source": [
        "def angle(a, b):\n",
        "    return np.arccos(np.dot(a, b) / (np.linalg.norm(a) * np.linalg.norm(b)))\n",
        "\n",
        "a = np.array([2, 3, 4])\n",
        "b = np.array([0, -1, 2])\n",
        "print(angle(a, b)) # The result should be: 1.1426035712129559\n",
        "assert angle(a, b) == 1.1426035712129559"
      ]
    },
    {
      "cell_type": "markdown",
      "metadata": {
        "autoscroll": null,
        "collapsed": null,
        "deletable": null,
        "format": null,
        "jupyter": null,
        "name": null,
        "tags": null
      },
      "source": [
        "## Distances\n",
        "The Euclidean distance between two vectors $\\mathbf{a}$ and $\\mathbf{b}$ is calculated as the length of the difference vector between $\\mathbf{a}$ and $\\mathbf{b}$, i.e. $\\|\\mathbf{a}-\\mathbf{b}\\|$.\n",
        "\n",
        "---\n",
        "**Task 7 (medium): Distances👩‍💻**\n",
        "1. Create two-dimensional vectors $\\mathbf{a}=\\begin{bmatrix}0\\\\0\\end{bmatrix}$ and $\\mathbf{b}=\\begin{bmatrix}1\\\\1\\end{bmatrix}$ using `np.zeros`\n",
        " and `np.ones`\n",
        " (refer to the tutorial for inspiration). Use the code cell below.\n",
        "2. Calculate the distance between the points and print the result.\n",
        "3. Create n-dimensional vectors $\\mathbf{a}=\\begin{bmatrix}0\\\\\\vdots\\\\0\\end{bmatrix}$ and $\\mathbf{b}=\\begin{bmatrix}1\\\\\\vdots\\\\1\\end{bmatrix}$ using `np.zeros`\n",
        " and `np.ones`\n",
        " (refer to the tutorial for inspiration) for $n=1, \\dots, 10$. Calculate the distance between the vectors for each number of dimensions. Plot the distances as a function of $n$.\n",
        "4. Explain the relationship in the figure between the number of dimensions and the distance.\n",
        "5. _(optional)_ Derive a formula for the distance between $\\mathbf{a}$ and $\\mathbf{b}$ as a function of the number of dimensions $n$, i.e. $f(n)=?$\n",
        "\n",
        "\n",
        "---\n"
      ]
    },
    {
      "cell_type": "code",
      "execution_count": 38,
      "metadata": {
        "autoscroll": null,
        "collapsed": null,
        "deletable": null,
        "format": null,
        "jupyter": null,
        "name": null,
        "tags": null
      },
      "outputs": [
        {
          "name": "stdout",
          "output_type": "stream",
          "text": [
            "a [0. 0.]\n",
            "b [1. 1.]\n",
            "Distance bewteen a and b1.4142135623730951\n"
          ]
        }
      ],
      "source": [
        "a = np.zeros(2)\n",
        "b = np.ones(2)\n",
        "print('a ' + str(a))\n",
        "print('b ' + str(b))\n",
        "\n",
        "print('Distance bewteen a and b' + str(np.linalg.norm(a - b)))\n"
      ]
    },
    {
      "cell_type": "code",
      "execution_count": 44,
      "metadata": {
        "autoscroll": null,
        "collapsed": null,
        "deletable": null,
        "format": null,
        "jupyter": null,
        "name": null,
        "tags": null
      },
      "outputs": [
        {
          "name": "stdout",
          "output_type": "stream",
          "text": [
            "[1.4142135623730951, 1.4142135623730951, 1.4142135623730951, 1.4142135623730951, 1.4142135623730951, 1.4142135623730951, 1.4142135623730951, 1.4142135623730951, 1.4142135623730951, 1.4142135623730951]\n"
          ]
        },
        {
          "data": {
            "image/png": "[encoded data removed]",
            "text/plain": [
              "<Figure size 640x480 with 1 Axes>"
            ]
          },
          "metadata": {},
          "output_type": "display_data"
        }
      ],
      "source": [
        "import matplotlib.pyplot as plt\n",
        "\n",
        "def distance0And1NDimensionArray(n):\n",
        "    distances = []\n",
        "\n",
        "    for i in range(n):\n",
        "        zeros = np.zeros(i)\n",
        "        ones = np.ones(i)\n",
        "\n",
        "        distances.append(np.linalg.norm(a - b))\n",
        "\n",
        "    print(distances)\n",
        "    plt.scatter(range(n), distances)\n",
        "    plt.show()\n",
        "\n",
        "distance0And1NDimensionArray(10)"
      ]
    }
  ],
  "metadata": {
    "kernelspec": {
      "display_name": "Python",
      "language": "python3",
      "name": "python3"
    },
    "language_info": {
      "codemirror_mode": {
        "name": "ipython",
        "version": 3
      },
      "file_extension": ".py",
      "mimetype": "text/x-python",
      "name": "python",
      "nbconvert_exporter": "python",
      "pygments_lexer": "ipython3",
      "version": "3.10.12"
    }
  },
  "nbformat": 4,
  "nbformat_minor": 5
}
